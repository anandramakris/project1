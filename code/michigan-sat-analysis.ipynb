{
 "cells": [
  {
   "cell_type": "markdown",
   "metadata": {},
   "source": [
    "# Project 1: SAT and College Admissions Analysis in Michigan"
   ]
  },
  {
   "cell_type": "markdown",
   "metadata": {},
   "source": [
    "--- \n",
    "# Part 1\n",
    "\n",
    "---"
   ]
  },
  {
   "cell_type": "markdown",
   "metadata": {},
   "source": [
    "## Problem Statement"
   ]
  },
  {
   "cell_type": "markdown",
   "metadata": {},
   "source": [
    "Michigan is the largest state where every high schooler in recent years has taken the SAT. At least some of those high schoolers would like to stay in Michigan rather than attending college elsewhere. This project aims to advise students in Michigan who wish to stay in-state whether they should try harder than the average Michigander to do well on the SAT."
   ]
  },
  {
   "cell_type": "markdown",
   "metadata": {},
   "source": [
    "### Contents:\n",
    "- [Background](#Background)\n",
    "- [Data Import & Cleaning](#Data-Import-and-Cleaning)\n",
    "- [Exploratory Data Analysis](#Exploratory-Data-Analysis)\n",
    "- [Data Visualization](#Visualize-the-Data)\n",
    "- [Conclusions and Recommendations](#Conclusions-and-Recommendations)"
   ]
  },
  {
   "cell_type": "markdown",
   "metadata": {},
   "source": [
    "## Background"
   ]
  },
  {
   "cell_type": "markdown",
   "metadata": {},
   "source": [
    "The SAT and ACT are standardized tests that many colleges and universities in the United States require for their admissions process. This score is used along with other materials such as grade point average (GPA) and essay responses to determine whether or not a potential student will be accepted to the university.\n",
    "\n",
    "The SAT has two sections of the test: Evidence-Based Reading and Writing and Math ([*source*](https://www.princetonreview.com/college/sat-sections)). The ACT has 4 sections: English, Mathematics, Reading, and Science, with an additional optional writing section ([*source*](https://www.act.org/content/act/en/products-and-services/the-act/scores/understanding-your-scores.html)). They have different score ranges, which you can read more about on their websites or additional outside sources (a quick Google search will help you understand the scores for each test):\n",
    "* [SAT](https://collegereadiness.collegeboard.org/sat)\n",
    "* [ACT](https://www.act.org/content/act/en.html)\n",
    "\n",
    "Standardized tests have long been a controversial topic for students, administrators, and legislators. Since the 1940's, an increasing number of colleges have been using scores from sudents' performances on tests like the SAT and the ACT as a measure for college readiness and aptitude ([*source*](https://www.minotdailynews.com/news/local-news/2017/04/a-brief-history-of-the-sat-and-act/)). Supporters of these tests argue that these scores can be used as an objective measure to determine college admittance. Opponents of these tests claim that these tests are not accurate measures of students potential or ability and serve as an inequitable barrier to entry. Lately, more and more schools are opting to drop the SAT/ACT requirement for their Fall 2021 applications ([*read more about this here*](https://www.cnn.com/2020/04/14/us/coronavirus-colleges-sat-act-test-trnd/index.html)).\n",
    "\n",
    "Michigan is one of twenty states which administer the SAT to high school juniors for free ([*source*](https://blog.prepscholar.com/which-states-require-the-sat)). It is one of three states, the other two being Connecticut and Delaware, which had a 100% SAT participation rate during 2017, 2018, and 2019. Of the three, Michigan is the largest by population ([*source*](https://worldpopulationreview.com/states)) and also has the most universities with 85 ([*source*](https://www.worldatlas.com/articles/which-state-has-the-most-colleges.html)). State law requires SAT scores to be put on student transcripts since it is part of the Michigan Merit Exam ([*source*](https://detroit.chalkbeat.org/2021/6/25/22549509/michigan-sat-university-college)). While many Michigan colleges have decided on test-optional application requirements, college counselors in the state have said that \"students are better off taking the SAT or the ACT, if they can\" ([*source*](https://www.bridgemi.com/talent-education/will-coronavirus-curb-act-and-sat-admissions-tests-michigan-colleges))."
   ]
  },
  {
   "cell_type": "markdown",
   "metadata": {},
   "source": [
    "### Choose your Data\n",
    "\n",
    "* [`colleges.csv`](../data/colleges.csv): Tracking Covid-19 at U.S. Colleges and Universities ([*source*](https://github.com/nytimes/covid-19-data/blob/master/colleges/colleges.csv))\n",
    "* [`sat_2017.csv`](../data/sat_2017.csv): 2017 SAT Scores by State ([*source*](https://blog.collegevine.com/here-are-the-average-sat-scores-by-state/))\n",
    "* [`sat_2018.csv`](../data/sat_2018.csv): 2018 SAT Scores by State ([*source*](https://blog.collegevine.com/here-are-the-average-sat-scores-by-state/))\n",
    "* [`sat_2019.csv`](../data/sat_2019.csv): 2019 SAT Scores by State ([*source*](https://blog.prepscholar.com/average-sat-scores-by-state-most-recent))\n",
    "* [`sat_act_by_college.csv`](../data/sat_act_by_college.csv): Ranges of Accepted ACT & SAT Student Scores by Colleges ([*source*](https://www.compassprep.com/college-profiles/))"
   ]
  },
  {
   "cell_type": "markdown",
   "metadata": {},
   "source": [
    "### Outside Research"
   ]
  },
  {
   "cell_type": "markdown",
   "metadata": {},
   "source": [
    "In order to group the colleges in the SAT accepted scores dataset by state so I could focus on only Michigan colleges, I used a dataset from the New York Times which details COVID-19 cases in colleges organized by state [*linked here*](https://github.com/nytimes/covid-19-data/blob/master/colleges/colleges.csv)."
   ]
  },
  {
   "cell_type": "markdown",
   "metadata": {},
   "source": [
    "### Coding Challenges\n",
    "\n",
    "1. Manually calculate mean:"
   ]
  },
  {
   "cell_type": "code",
   "execution_count": 14,
   "metadata": {},
   "outputs": [],
   "source": [
    "def mean(li):\n",
    "    return sum(num for num in li)/len(li)"
   ]
  },
  {
   "cell_type": "markdown",
   "metadata": {},
   "source": [
    "2. Manually calculate standard deviation:"
   ]
  },
  {
   "cell_type": "code",
   "execution_count": 15,
   "metadata": {},
   "outputs": [],
   "source": [
    "def sd(li):\n",
    "    mn = mean(li)\n",
    "    \n",
    "    return (sum((num - mn)**2 for num in li)/len(li))**0.5"
   ]
  },
  {
   "cell_type": "markdown",
   "metadata": {},
   "source": [
    "3. Data cleaning function:"
   ]
  },
  {
   "cell_type": "code",
   "execution_count": 16,
   "metadata": {},
   "outputs": [],
   "source": [
    "def pct(string):\n",
    "    return float(string[:-1])*0.01"
   ]
  },
  {
   "cell_type": "markdown",
   "metadata": {},
   "source": [
    "--- \n",
    "# Part 2\n",
    "\n",
    "---"
   ]
  },
  {
   "cell_type": "markdown",
   "metadata": {},
   "source": [
    "*All libraries used should be added here*"
   ]
  },
  {
   "cell_type": "code",
   "execution_count": 17,
   "metadata": {},
   "outputs": [],
   "source": [
    "import pandas as pd\n",
    "import matplotlib.pyplot as plt\n",
    "import numpy as np\n",
    "import seaborn as sns"
   ]
  },
  {
   "cell_type": "markdown",
   "metadata": {},
   "source": [
    "## Data Import and Cleaning"
   ]
  },
  {
   "cell_type": "code",
   "execution_count": 18,
   "metadata": {},
   "outputs": [],
   "source": [
    "# Load datasets\n",
    "sat_by_college = pd.read_csv('../data/sat_act_by_college.csv')\n",
    "colleges = pd.read_csv('../data/colleges.csv')\n",
    "sat_2017 = pd.read_csv('../data/sat_2017.csv')\n",
    "sat_2018 = pd.read_csv('../data/sat_2018.csv')\n",
    "sat_2019 = pd.read_csv('../data/sat_2019.csv')"
   ]
  },
  {
   "cell_type": "code",
   "execution_count": 19,
   "metadata": {},
   "outputs": [],
   "source": [
    "# Create dictionary for average Michigan SAT scores per year\n",
    "michigan_sat = {'2017': sat_2017['Total'][22], \n",
    "                '2018': sat_2018['Total'][22], \n",
    "                '2019': sat_2019['Total'][22]}"
   ]
  },
  {
   "cell_type": "code",
   "execution_count": 20,
   "metadata": {},
   "outputs": [
    {
     "data": {
      "text/plain": [
       "{'2017': 1005, '2018': 1011, '2019': 1003}"
      ]
     },
     "execution_count": 20,
     "metadata": {},
     "output_type": "execute_result"
    }
   ],
   "source": [
    "michigan_sat"
   ]
  },
  {
   "cell_type": "code",
   "execution_count": 21,
   "metadata": {},
   "outputs": [
    {
     "data": {
      "text/html": [
       "<div>\n",
       "<style scoped>\n",
       "    .dataframe tbody tr th:only-of-type {\n",
       "        vertical-align: middle;\n",
       "    }\n",
       "\n",
       "    .dataframe tbody tr th {\n",
       "        vertical-align: top;\n",
       "    }\n",
       "\n",
       "    .dataframe thead th {\n",
       "        text-align: right;\n",
       "    }\n",
       "</style>\n",
       "<table border=\"1\" class=\"dataframe\">\n",
       "  <thead>\n",
       "    <tr style=\"text-align: right;\">\n",
       "      <th></th>\n",
       "      <th>School</th>\n",
       "      <th>Test Optional?</th>\n",
       "      <th>Applies to Class Year(s)</th>\n",
       "      <th>Policy Details</th>\n",
       "      <th>Number of Applicants</th>\n",
       "      <th>Accept Rate</th>\n",
       "      <th>SAT Total 25th-75th Percentile</th>\n",
       "      <th>ACT Total 25th-75th Percentile</th>\n",
       "    </tr>\n",
       "  </thead>\n",
       "  <tbody>\n",
       "    <tr>\n",
       "      <th>0</th>\n",
       "      <td>Stanford University</td>\n",
       "      <td>Yes</td>\n",
       "      <td>2021</td>\n",
       "      <td>Stanford has adopted a one-year test optional ...</td>\n",
       "      <td>47452</td>\n",
       "      <td>4.30%</td>\n",
       "      <td>1440-1570</td>\n",
       "      <td>32-35</td>\n",
       "    </tr>\n",
       "    <tr>\n",
       "      <th>1</th>\n",
       "      <td>Harvard College</td>\n",
       "      <td>Yes</td>\n",
       "      <td>2021</td>\n",
       "      <td>Harvard has adopted a one-year test optional p...</td>\n",
       "      <td>42749</td>\n",
       "      <td>4.70%</td>\n",
       "      <td>1460-1580</td>\n",
       "      <td>33-35</td>\n",
       "    </tr>\n",
       "    <tr>\n",
       "      <th>2</th>\n",
       "      <td>Princeton University</td>\n",
       "      <td>Yes</td>\n",
       "      <td>2021</td>\n",
       "      <td>Princeton has adopted a one-year test optional...</td>\n",
       "      <td>35370</td>\n",
       "      <td>5.50%</td>\n",
       "      <td>1440-1570</td>\n",
       "      <td>32-35</td>\n",
       "    </tr>\n",
       "    <tr>\n",
       "      <th>3</th>\n",
       "      <td>Columbia University</td>\n",
       "      <td>Yes</td>\n",
       "      <td>2021</td>\n",
       "      <td>Columbia has adopted a one-year test optional ...</td>\n",
       "      <td>40203</td>\n",
       "      <td>5.50%</td>\n",
       "      <td>1450-1560</td>\n",
       "      <td>33-35</td>\n",
       "    </tr>\n",
       "    <tr>\n",
       "      <th>4</th>\n",
       "      <td>Yale University</td>\n",
       "      <td>Yes</td>\n",
       "      <td>2021</td>\n",
       "      <td>Yale has adopted a one-year test optional poli...</td>\n",
       "      <td>36844</td>\n",
       "      <td>6.10%</td>\n",
       "      <td>1460-1570</td>\n",
       "      <td>33-35</td>\n",
       "    </tr>\n",
       "  </tbody>\n",
       "</table>\n",
       "</div>"
      ],
      "text/plain": [
       "                 School Test Optional? Applies to Class Year(s)  \\\n",
       "0   Stanford University            Yes                     2021   \n",
       "1       Harvard College            Yes                     2021   \n",
       "2  Princeton University            Yes                     2021   \n",
       "3   Columbia University            Yes                     2021   \n",
       "4       Yale University            Yes                     2021   \n",
       "\n",
       "                                      Policy Details  Number of Applicants  \\\n",
       "0  Stanford has adopted a one-year test optional ...                 47452   \n",
       "1  Harvard has adopted a one-year test optional p...                 42749   \n",
       "2  Princeton has adopted a one-year test optional...                 35370   \n",
       "3  Columbia has adopted a one-year test optional ...                 40203   \n",
       "4  Yale has adopted a one-year test optional poli...                 36844   \n",
       "\n",
       "  Accept Rate SAT Total 25th-75th Percentile ACT Total 25th-75th Percentile  \n",
       "0       4.30%                      1440-1570                          32-35  \n",
       "1       4.70%                      1460-1580                          33-35  \n",
       "2       5.50%                      1440-1570                          32-35  \n",
       "3       5.50%                      1450-1560                          33-35  \n",
       "4       6.10%                      1460-1570                          33-35  "
      ]
     },
     "execution_count": 21,
     "metadata": {},
     "output_type": "execute_result"
    }
   ],
   "source": [
    "sat_by_college.head()"
   ]
  },
  {
   "cell_type": "code",
   "execution_count": 22,
   "metadata": {},
   "outputs": [],
   "source": [
    "# Drop ACT column because the project focuses only on the SAT\n",
    "sat_by_college.drop(columns = 'ACT Total 25th-75th Percentile', inplace = True)\n",
    "\n",
    "# Drop columns that are not important for understanding the project\n",
    "sat_by_college.drop(columns = 'Applies to Class Year(s)', inplace = True)\n",
    "sat_by_college.drop(columns = 'Policy Details', inplace = True)\n",
    "\n",
    "# Rename the rest of the columns in SAT colleges dataset\n",
    "new_columns = ['college', 'test_optional', 'num_applicants', 'accept_rate', 'sat_25_75']\n",
    "\n",
    "sat_by_college.columns = new_columns"
   ]
  },
  {
   "cell_type": "code",
   "execution_count": 23,
   "metadata": {},
   "outputs": [
    {
     "data": {
      "text/html": [
       "<div>\n",
       "<style scoped>\n",
       "    .dataframe tbody tr th:only-of-type {\n",
       "        vertical-align: middle;\n",
       "    }\n",
       "\n",
       "    .dataframe tbody tr th {\n",
       "        vertical-align: top;\n",
       "    }\n",
       "\n",
       "    .dataframe thead th {\n",
       "        text-align: right;\n",
       "    }\n",
       "</style>\n",
       "<table border=\"1\" class=\"dataframe\">\n",
       "  <thead>\n",
       "    <tr style=\"text-align: right;\">\n",
       "      <th></th>\n",
       "      <th>college</th>\n",
       "      <th>test_optional</th>\n",
       "      <th>num_applicants</th>\n",
       "      <th>accept_rate</th>\n",
       "      <th>sat_25_75</th>\n",
       "    </tr>\n",
       "  </thead>\n",
       "  <tbody>\n",
       "    <tr>\n",
       "      <th>0</th>\n",
       "      <td>Stanford University</td>\n",
       "      <td>Yes</td>\n",
       "      <td>47452</td>\n",
       "      <td>4.30%</td>\n",
       "      <td>1440-1570</td>\n",
       "    </tr>\n",
       "    <tr>\n",
       "      <th>1</th>\n",
       "      <td>Harvard College</td>\n",
       "      <td>Yes</td>\n",
       "      <td>42749</td>\n",
       "      <td>4.70%</td>\n",
       "      <td>1460-1580</td>\n",
       "    </tr>\n",
       "    <tr>\n",
       "      <th>2</th>\n",
       "      <td>Princeton University</td>\n",
       "      <td>Yes</td>\n",
       "      <td>35370</td>\n",
       "      <td>5.50%</td>\n",
       "      <td>1440-1570</td>\n",
       "    </tr>\n",
       "    <tr>\n",
       "      <th>3</th>\n",
       "      <td>Columbia University</td>\n",
       "      <td>Yes</td>\n",
       "      <td>40203</td>\n",
       "      <td>5.50%</td>\n",
       "      <td>1450-1560</td>\n",
       "    </tr>\n",
       "    <tr>\n",
       "      <th>4</th>\n",
       "      <td>Yale University</td>\n",
       "      <td>Yes</td>\n",
       "      <td>36844</td>\n",
       "      <td>6.10%</td>\n",
       "      <td>1460-1570</td>\n",
       "    </tr>\n",
       "  </tbody>\n",
       "</table>\n",
       "</div>"
      ],
      "text/plain": [
       "                college test_optional  num_applicants accept_rate  sat_25_75\n",
       "0   Stanford University           Yes           47452       4.30%  1440-1570\n",
       "1       Harvard College           Yes           42749       4.70%  1460-1580\n",
       "2  Princeton University           Yes           35370       5.50%  1440-1570\n",
       "3   Columbia University           Yes           40203       5.50%  1450-1560\n",
       "4       Yale University           Yes           36844       6.10%  1460-1570"
      ]
     },
     "execution_count": 23,
     "metadata": {},
     "output_type": "execute_result"
    }
   ],
   "source": [
    "# Check new columns\n",
    "sat_by_college.head()"
   ]
  },
  {
   "cell_type": "code",
   "execution_count": 24,
   "metadata": {},
   "outputs": [],
   "source": [
    "# Clean acceptance rate column using percentage function\n",
    "sat_by_college['accept_rate'] = sat_by_college['accept_rate'].map(pct)"
   ]
  },
  {
   "cell_type": "code",
   "execution_count": 25,
   "metadata": {},
   "outputs": [],
   "source": [
    "# Remove unwanted character in college names\n",
    "def clean_college_names(string):\n",
    "    s1 = string.replace('\\u200b', '')\n",
    "    return s1\n",
    "\n",
    "sat_by_college['college'] = sat_by_college['college'].map(clean_college_names)"
   ]
  },
  {
   "cell_type": "markdown",
   "metadata": {},
   "source": [
    "A percentile is either an element in the dataset or the average of two elements in the dataset ([*source*](https://www.indeed.com/career-advice/career-development/how-to-calculate-percentile)). Since SAT scores are always multiples of 10 ([*source*](http://www.prosperoverseas.com/sat)), the 25th and 75th percentiles must end in either 0 or 5. Invalid percentiles are set to null in the following cleaning function."
   ]
  },
  {
   "cell_type": "code",
   "execution_count": 26,
   "metadata": {},
   "outputs": [],
   "source": [
    "# Clean SAT percentile column\n",
    "def clean_percentile(string):\n",
    "    # Remove unwanted characters\n",
    "    s1 = string.replace('\\u200b', '')\n",
    "    s2 = s1.replace(' ', '')\n",
    "    \n",
    "    # Set missing to null\n",
    "    if s2 == '--':\n",
    "        return np.nan\n",
    "    \n",
    "    # Set decimal values to null\n",
    "    for ch in s2:\n",
    "        if ch == '.':\n",
    "            return np.nan\n",
    "    \n",
    "    # Set invalid percentiles to null\n",
    "    if s2[4] == '-':\n",
    "        if s2[3] != '0' and s2[3] != '5':\n",
    "            return np.nan\n",
    "    elif s2[3] == '-':\n",
    "        if s2[2] != '0' and s2[2] != '5':\n",
    "            return np.nan\n",
    "    \n",
    "    return s2\n",
    "\n",
    "sat_by_college['sat_25_75'] = sat_by_college['sat_25_75'].map(clean_percentile)"
   ]
  },
  {
   "cell_type": "code",
   "execution_count": 27,
   "metadata": {},
   "outputs": [],
   "source": [
    "# Remove all colleges with no or invalid SAT percentile\n",
    "sat_by_college.dropna(inplace = True);"
   ]
  },
  {
   "cell_type": "code",
   "execution_count": 28,
   "metadata": {},
   "outputs": [
    {
     "data": {
      "text/plain": [
       "college           0\n",
       "test_optional     0\n",
       "num_applicants    0\n",
       "accept_rate       0\n",
       "sat_25_75         0\n",
       "dtype: int64"
      ]
     },
     "execution_count": 28,
     "metadata": {},
     "output_type": "execute_result"
    }
   ],
   "source": [
    "# Check that there are no null values\n",
    "sat_by_college.isnull().sum()"
   ]
  },
  {
   "cell_type": "code",
   "execution_count": 29,
   "metadata": {},
   "outputs": [],
   "source": [
    "# Separate 25th and 75th percentiles for SAT into their own columns\n",
    "def separate_25(string):\n",
    "    sat_25 = \"\"\n",
    "    \n",
    "    for ch in string:\n",
    "        if ch == '-':\n",
    "            break\n",
    "        else:\n",
    "            sat_25 += ch\n",
    "            \n",
    "    return float(sat_25)\n",
    "\n",
    "def separate_75(string):\n",
    "    sat_75 = \"\"\n",
    "    \n",
    "    for ch in string[::-1]:\n",
    "        if ch == '-':\n",
    "            break\n",
    "        else:\n",
    "            sat_75 = ch + sat_75\n",
    "    \n",
    "    return float(sat_75)\n",
    "\n",
    "sat_by_college['sat_25'] = sat_by_college['sat_25_75'].map(separate_25)\n",
    "sat_by_college['sat_75'] = sat_by_college['sat_25_75'].map(separate_75)\n",
    "\n",
    "sat_by_college.drop(columns = 'sat_25_75', inplace = True)"
   ]
  },
  {
   "cell_type": "code",
   "execution_count": 30,
   "metadata": {},
   "outputs": [
    {
     "name": "stdout",
     "output_type": "stream",
     "text": [
      "820.0\n",
      "1050.0\n",
      "1530.0\n",
      "1580.0\n"
     ]
    }
   ],
   "source": [
    "# Check that minimum and maximum for 25th and 75th percentiles are within the 400-1600 range\n",
    "print(sat_by_college['sat_25'].min())\n",
    "print(sat_by_college['sat_75'].min())\n",
    "print(sat_by_college['sat_25'].max())\n",
    "print(sat_by_college['sat_75'].max())"
   ]
  },
  {
   "cell_type": "code",
   "execution_count": 31,
   "metadata": {},
   "outputs": [],
   "source": [
    "# Fix names of Michigan colleges\n",
    "sat_by_college = sat_by_college.replace('University of Michigan—Ann Arbor', 'University of Michigan')\n",
    "sat_by_college = sat_by_college.replace('Central Michigan', 'Central Michigan University')\n",
    "sat_by_college = sat_by_college.replace('Eastern Michigan', 'Eastern Michigan University')"
   ]
  },
  {
   "cell_type": "markdown",
   "metadata": {},
   "source": [
    "I used df.merge(), which I found in the [*Pandas documentation*](https://pandas.pydata.org/docs/reference/api/pandas.DataFrame.merge.html), to join the state column in the colleges dataset into sat_by_college."
   ]
  },
  {
   "cell_type": "code",
   "execution_count": 32,
   "metadata": {},
   "outputs": [],
   "source": [
    "# Merge state column\n",
    "sat_by_college = sat_by_college.merge(colleges[['college', 'state']], how='left', on='college');\n",
    "\n",
    "# Remove all rows with no state listed\n",
    "sat_by_college.dropna(inplace = True);"
   ]
  },
  {
   "cell_type": "code",
   "execution_count": 33,
   "metadata": {},
   "outputs": [],
   "source": [
    "# Create new dataset for only Michigan colleges, then sort it by 75th percentile\n",
    "michigan_sat_by_college = sat_by_college[sat_by_college['state'] == 'Michigan'].sort_values('accept_rate')"
   ]
  },
  {
   "cell_type": "markdown",
   "metadata": {},
   "source": [
    "I got the function to reset the indices of the dataset from the [*Pandas documentation*](https://pandas.pydata.org/docs/reference/api/pandas.DataFrame.reset_index.html)."
   ]
  },
  {
   "cell_type": "code",
   "execution_count": 34,
   "metadata": {},
   "outputs": [],
   "source": [
    "# Reset index\n",
    "michigan_sat_by_college = michigan_sat_by_college.reset_index();\n",
    "michigan_sat_by_college.drop(columns = 'index', inplace = True)"
   ]
  },
  {
   "cell_type": "code",
   "execution_count": 35,
   "metadata": {},
   "outputs": [
    {
     "data": {
      "text/html": [
       "<div>\n",
       "<style scoped>\n",
       "    .dataframe tbody tr th:only-of-type {\n",
       "        vertical-align: middle;\n",
       "    }\n",
       "\n",
       "    .dataframe tbody tr th {\n",
       "        vertical-align: top;\n",
       "    }\n",
       "\n",
       "    .dataframe thead th {\n",
       "        text-align: right;\n",
       "    }\n",
       "</style>\n",
       "<table border=\"1\" class=\"dataframe\">\n",
       "  <thead>\n",
       "    <tr style=\"text-align: right;\">\n",
       "      <th></th>\n",
       "      <th>college</th>\n",
       "      <th>test_optional</th>\n",
       "      <th>num_applicants</th>\n",
       "      <th>accept_rate</th>\n",
       "      <th>sat_25</th>\n",
       "      <th>sat_75</th>\n",
       "      <th>state</th>\n",
       "    </tr>\n",
       "  </thead>\n",
       "  <tbody>\n",
       "    <tr>\n",
       "      <th>0</th>\n",
       "      <td>University of Michigan</td>\n",
       "      <td>Yes</td>\n",
       "      <td>64972</td>\n",
       "      <td>0.229</td>\n",
       "      <td>1340.0</td>\n",
       "      <td>1530.0</td>\n",
       "      <td>Michigan</td>\n",
       "    </tr>\n",
       "    <tr>\n",
       "      <th>1</th>\n",
       "      <td>Hillsdale College</td>\n",
       "      <td>No</td>\n",
       "      <td>2208</td>\n",
       "      <td>0.360</td>\n",
       "      <td>1275.0</td>\n",
       "      <td>1465.0</td>\n",
       "      <td>Michigan</td>\n",
       "    </tr>\n",
       "    <tr>\n",
       "      <th>2</th>\n",
       "      <td>Albion College</td>\n",
       "      <td>Yes</td>\n",
       "      <td>4043</td>\n",
       "      <td>0.688</td>\n",
       "      <td>990.0</td>\n",
       "      <td>1200.0</td>\n",
       "      <td>Michigan</td>\n",
       "    </tr>\n",
       "    <tr>\n",
       "      <th>3</th>\n",
       "      <td>Central Michigan University</td>\n",
       "      <td>Yes</td>\n",
       "      <td>16411</td>\n",
       "      <td>0.695</td>\n",
       "      <td>990.0</td>\n",
       "      <td>1200.0</td>\n",
       "      <td>Michigan</td>\n",
       "    </tr>\n",
       "    <tr>\n",
       "      <th>4</th>\n",
       "      <td>Michigan State University</td>\n",
       "      <td>Yes</td>\n",
       "      <td>44322</td>\n",
       "      <td>0.711</td>\n",
       "      <td>1100.0</td>\n",
       "      <td>1320.0</td>\n",
       "      <td>Michigan</td>\n",
       "    </tr>\n",
       "    <tr>\n",
       "      <th>5</th>\n",
       "      <td>Wayne State University</td>\n",
       "      <td>Yes</td>\n",
       "      <td>15716</td>\n",
       "      <td>0.731</td>\n",
       "      <td>1010.0</td>\n",
       "      <td>1230.0</td>\n",
       "      <td>Michigan</td>\n",
       "    </tr>\n",
       "    <tr>\n",
       "      <th>6</th>\n",
       "      <td>Eastern Michigan University</td>\n",
       "      <td>Yes*</td>\n",
       "      <td>14323</td>\n",
       "      <td>0.741</td>\n",
       "      <td>970.0</td>\n",
       "      <td>1190.0</td>\n",
       "      <td>Michigan</td>\n",
       "    </tr>\n",
       "    <tr>\n",
       "      <th>7</th>\n",
       "      <td>Michigan Technological University</td>\n",
       "      <td>Yes</td>\n",
       "      <td>5978</td>\n",
       "      <td>0.743</td>\n",
       "      <td>1170.0</td>\n",
       "      <td>1370.0</td>\n",
       "      <td>Michigan</td>\n",
       "    </tr>\n",
       "    <tr>\n",
       "      <th>8</th>\n",
       "      <td>Kalamazoo College</td>\n",
       "      <td>Yes</td>\n",
       "      <td>3576</td>\n",
       "      <td>0.760</td>\n",
       "      <td>1170.0</td>\n",
       "      <td>1370.0</td>\n",
       "      <td>Michigan</td>\n",
       "    </tr>\n",
       "    <tr>\n",
       "      <th>9</th>\n",
       "      <td>Hope College</td>\n",
       "      <td>Yes</td>\n",
       "      <td>3748</td>\n",
       "      <td>0.857</td>\n",
       "      <td>1130.0</td>\n",
       "      <td>1330.0</td>\n",
       "      <td>Michigan</td>\n",
       "    </tr>\n",
       "  </tbody>\n",
       "</table>\n",
       "</div>"
      ],
      "text/plain": [
       "                             college test_optional  num_applicants  \\\n",
       "0             University of Michigan           Yes           64972   \n",
       "1                  Hillsdale College            No            2208   \n",
       "2                     Albion College           Yes            4043   \n",
       "3        Central Michigan University           Yes           16411   \n",
       "4          Michigan State University           Yes           44322   \n",
       "5             Wayne State University           Yes           15716   \n",
       "6        Eastern Michigan University          Yes*           14323   \n",
       "7  Michigan Technological University           Yes            5978   \n",
       "8                  Kalamazoo College           Yes            3576   \n",
       "9                       Hope College           Yes            3748   \n",
       "\n",
       "   accept_rate  sat_25  sat_75     state  \n",
       "0        0.229  1340.0  1530.0  Michigan  \n",
       "1        0.360  1275.0  1465.0  Michigan  \n",
       "2        0.688   990.0  1200.0  Michigan  \n",
       "3        0.695   990.0  1200.0  Michigan  \n",
       "4        0.711  1100.0  1320.0  Michigan  \n",
       "5        0.731  1010.0  1230.0  Michigan  \n",
       "6        0.741   970.0  1190.0  Michigan  \n",
       "7        0.743  1170.0  1370.0  Michigan  \n",
       "8        0.760  1170.0  1370.0  Michigan  \n",
       "9        0.857  1130.0  1330.0  Michigan  "
      ]
     },
     "execution_count": 35,
     "metadata": {},
     "output_type": "execute_result"
    }
   ],
   "source": [
    "# Look at new dataset\n",
    "michigan_sat_by_college"
   ]
  },
  {
   "cell_type": "code",
   "execution_count": 36,
   "metadata": {},
   "outputs": [
    {
     "data": {
      "text/plain": [
       "college            object\n",
       "test_optional      object\n",
       "num_applicants      int64\n",
       "accept_rate       float64\n",
       "sat_25            float64\n",
       "sat_75            float64\n",
       "state              object\n",
       "dtype: object"
      ]
     },
     "execution_count": 36,
     "metadata": {},
     "output_type": "execute_result"
    }
   ],
   "source": [
    "# Get datatypes\n",
    "michigan_sat_by_college.dtypes"
   ]
  },
  {
   "cell_type": "markdown",
   "metadata": {},
   "source": [
    "Help with exporting to csv came from [*Data to Fish*](https://datatofish.com/export-dataframe-to-csv/)."
   ]
  },
  {
   "cell_type": "code",
   "execution_count": 37,
   "metadata": {},
   "outputs": [],
   "source": [
    "# Export to csv\n",
    "michigan_sat_by_college.to_csv('..\\data\\michigan_sat_by_college.csv')"
   ]
  },
  {
   "cell_type": "markdown",
   "metadata": {},
   "source": [
    "### Data Dictionary"
   ]
  },
  {
   "cell_type": "markdown",
   "metadata": {},
   "source": [
    "|Feature|Type|Dataset|Description|\n",
    "|---|---|---|---|\n",
    "|**college**|*object*|ACT/SAT|The name of the college.|\n",
    "|**test_optional**|*object*|ACT/SAT|Whether the SAT (or ACT) is optional when applying to the college.|\n",
    "|**num_applicants**|*int*|ACT/SAT|The most recently reported statistic for the number of applicants to the college.|\n",
    "|**accept_rate**|*float*|ACT/SAT|The most recently reported statistic for the fraction of applicants accepted to the college.|\n",
    "|**sat_25**|*float*|ACT/SAT|The 25th percentile of SAT scores for students accepted at the college.|\n",
    "|**sat_75**|*float*|ACT/SAT|The 75th percentile of SAT scores for students accepted at the college.|\n",
    "|**state**|*object*|COVID|The state the college is located in. For this dataset, all colleges are in Michigan.|\n"
   ]
  },
  {
   "cell_type": "markdown",
   "metadata": {},
   "source": [
    "## Exploratory Data Analysis\n",
    "\n",
    "Complete the following steps to explore your data. You are welcome to do more EDA than the steps outlined here as you feel necessary:\n",
    "1. Summary Statistics.\n",
    "2. Use a **dictionary comprehension** to apply the standard deviation function you create in part 1 to each numeric column in the dataframe.  **No loops**.\n",
    "    - Assign the output to variable `sd` as a dictionary where: \n",
    "        - Each column name is now a key \n",
    "        - That standard deviation of the column is the value \n",
    "        - *Example Output :* `{'ACT_Math': 120, 'ACT_Reading': 120, ...}`\n",
    "3. Investigate trends in the data.\n",
    "    - Using sorting and/or masking (along with the `.head()` method to avoid printing our entire dataframe), consider questions relevant to your problem statement. Some examples are provided below (but feel free to change these questions for your specific problem):\n",
    "        - Which states have the highest and lowest participation rates for the 2017, 2019, or 2019 SAT and ACT?\n",
    "        - Which states have the highest and lowest mean total/composite scores for the 2017, 2019, or 2019 SAT and ACT?\n",
    "        - Do any states with 100% participation on a given test have a rate change year-to-year?\n",
    "        - Do any states show have >50% participation on *both* tests each year?\n",
    "        - Which colleges have the highest median SAT and ACT scores for admittance?\n",
    "        - Which California school districts have the highest and lowest mean test scores?\n",
    "    - **You should comment on your findings at each step in a markdown cell below your code block**. Make sure you include at least one example of sorting your dataframe by a column, and one example of using boolean filtering (i.e., masking) to select a subset of the dataframe."
   ]
  },
  {
   "cell_type": "code",
   "execution_count": 38,
   "metadata": {},
   "outputs": [
    {
     "data": {
      "text/html": [
       "<div>\n",
       "<style scoped>\n",
       "    .dataframe tbody tr th:only-of-type {\n",
       "        vertical-align: middle;\n",
       "    }\n",
       "\n",
       "    .dataframe tbody tr th {\n",
       "        vertical-align: top;\n",
       "    }\n",
       "\n",
       "    .dataframe thead th {\n",
       "        text-align: right;\n",
       "    }\n",
       "</style>\n",
       "<table border=\"1\" class=\"dataframe\">\n",
       "  <thead>\n",
       "    <tr style=\"text-align: right;\">\n",
       "      <th></th>\n",
       "      <th>college</th>\n",
       "      <th>test_optional</th>\n",
       "      <th>num_applicants</th>\n",
       "      <th>accept_rate</th>\n",
       "      <th>sat_25</th>\n",
       "      <th>sat_75</th>\n",
       "      <th>state</th>\n",
       "    </tr>\n",
       "  </thead>\n",
       "  <tbody>\n",
       "    <tr>\n",
       "      <th>0</th>\n",
       "      <td>University of Michigan</td>\n",
       "      <td>Yes</td>\n",
       "      <td>64972</td>\n",
       "      <td>0.229</td>\n",
       "      <td>1340.0</td>\n",
       "      <td>1530.0</td>\n",
       "      <td>Michigan</td>\n",
       "    </tr>\n",
       "    <tr>\n",
       "      <th>1</th>\n",
       "      <td>Hillsdale College</td>\n",
       "      <td>No</td>\n",
       "      <td>2208</td>\n",
       "      <td>0.360</td>\n",
       "      <td>1275.0</td>\n",
       "      <td>1465.0</td>\n",
       "      <td>Michigan</td>\n",
       "    </tr>\n",
       "    <tr>\n",
       "      <th>2</th>\n",
       "      <td>Albion College</td>\n",
       "      <td>Yes</td>\n",
       "      <td>4043</td>\n",
       "      <td>0.688</td>\n",
       "      <td>990.0</td>\n",
       "      <td>1200.0</td>\n",
       "      <td>Michigan</td>\n",
       "    </tr>\n",
       "    <tr>\n",
       "      <th>3</th>\n",
       "      <td>Central Michigan University</td>\n",
       "      <td>Yes</td>\n",
       "      <td>16411</td>\n",
       "      <td>0.695</td>\n",
       "      <td>990.0</td>\n",
       "      <td>1200.0</td>\n",
       "      <td>Michigan</td>\n",
       "    </tr>\n",
       "    <tr>\n",
       "      <th>4</th>\n",
       "      <td>Michigan State University</td>\n",
       "      <td>Yes</td>\n",
       "      <td>44322</td>\n",
       "      <td>0.711</td>\n",
       "      <td>1100.0</td>\n",
       "      <td>1320.0</td>\n",
       "      <td>Michigan</td>\n",
       "    </tr>\n",
       "    <tr>\n",
       "      <th>5</th>\n",
       "      <td>Wayne State University</td>\n",
       "      <td>Yes</td>\n",
       "      <td>15716</td>\n",
       "      <td>0.731</td>\n",
       "      <td>1010.0</td>\n",
       "      <td>1230.0</td>\n",
       "      <td>Michigan</td>\n",
       "    </tr>\n",
       "    <tr>\n",
       "      <th>6</th>\n",
       "      <td>Eastern Michigan University</td>\n",
       "      <td>Yes*</td>\n",
       "      <td>14323</td>\n",
       "      <td>0.741</td>\n",
       "      <td>970.0</td>\n",
       "      <td>1190.0</td>\n",
       "      <td>Michigan</td>\n",
       "    </tr>\n",
       "    <tr>\n",
       "      <th>7</th>\n",
       "      <td>Michigan Technological University</td>\n",
       "      <td>Yes</td>\n",
       "      <td>5978</td>\n",
       "      <td>0.743</td>\n",
       "      <td>1170.0</td>\n",
       "      <td>1370.0</td>\n",
       "      <td>Michigan</td>\n",
       "    </tr>\n",
       "    <tr>\n",
       "      <th>8</th>\n",
       "      <td>Kalamazoo College</td>\n",
       "      <td>Yes</td>\n",
       "      <td>3576</td>\n",
       "      <td>0.760</td>\n",
       "      <td>1170.0</td>\n",
       "      <td>1370.0</td>\n",
       "      <td>Michigan</td>\n",
       "    </tr>\n",
       "    <tr>\n",
       "      <th>9</th>\n",
       "      <td>Hope College</td>\n",
       "      <td>Yes</td>\n",
       "      <td>3748</td>\n",
       "      <td>0.857</td>\n",
       "      <td>1130.0</td>\n",
       "      <td>1330.0</td>\n",
       "      <td>Michigan</td>\n",
       "    </tr>\n",
       "  </tbody>\n",
       "</table>\n",
       "</div>"
      ],
      "text/plain": [
       "                             college test_optional  num_applicants  \\\n",
       "0             University of Michigan           Yes           64972   \n",
       "1                  Hillsdale College            No            2208   \n",
       "2                     Albion College           Yes            4043   \n",
       "3        Central Michigan University           Yes           16411   \n",
       "4          Michigan State University           Yes           44322   \n",
       "5             Wayne State University           Yes           15716   \n",
       "6        Eastern Michigan University          Yes*           14323   \n",
       "7  Michigan Technological University           Yes            5978   \n",
       "8                  Kalamazoo College           Yes            3576   \n",
       "9                       Hope College           Yes            3748   \n",
       "\n",
       "   accept_rate  sat_25  sat_75     state  \n",
       "0        0.229  1340.0  1530.0  Michigan  \n",
       "1        0.360  1275.0  1465.0  Michigan  \n",
       "2        0.688   990.0  1200.0  Michigan  \n",
       "3        0.695   990.0  1200.0  Michigan  \n",
       "4        0.711  1100.0  1320.0  Michigan  \n",
       "5        0.731  1010.0  1230.0  Michigan  \n",
       "6        0.741   970.0  1190.0  Michigan  \n",
       "7        0.743  1170.0  1370.0  Michigan  \n",
       "8        0.760  1170.0  1370.0  Michigan  \n",
       "9        0.857  1130.0  1330.0  Michigan  "
      ]
     },
     "execution_count": 38,
     "metadata": {},
     "output_type": "execute_result"
    }
   ],
   "source": [
    "michigan_sat_by_college"
   ]
  },
  {
   "cell_type": "markdown",
   "metadata": {},
   "source": [
    "Notably, Hillsdale College, the only college in the dataset to require either the SAT or the ACT for all prospective students as of 2021, is the second-most selective and has the second-highest 25th and 75th percentile for admitted SAT scores. This implies that the admissions officers at Hillsdale highly value standardized tests as signs of an applicant's merit."
   ]
  },
  {
   "cell_type": "code",
   "execution_count": 39,
   "metadata": {},
   "outputs": [
    {
     "name": "stdout",
     "output_type": "stream",
     "text": [
      "Standard deviations: {'num_applicants': 19794.3209787555, 'accept_rate': 0.1862655362647637, 'sat_25': 120.83976994350824, 'sat_75': 111.36538959658876}\n",
      "Means: {'num_applicants': 17529.7, 'accept_rate': 0.6515, 'sat_25': 1114.5, 'sat_75': 1320.5}\n"
     ]
    }
   ],
   "source": [
    "l1 = michigan_sat_by_college['num_applicants']\n",
    "l2 = michigan_sat_by_college['accept_rate']\n",
    "l3 = michigan_sat_by_college['sat_25']\n",
    "l4 = michigan_sat_by_college['sat_75']\n",
    "sd = {'num_applicants': sd(l1), 'accept_rate': sd(l2), 'sat_25': sd(l3), 'sat_75': sd(l4)}\n",
    "print(\"Standard deviations: \" + str(sd))\n",
    "means = {'num_applicants': mean(l1), 'accept_rate': mean(l2), 'sat_25': mean(l3), 'sat_75': mean(l4)}\n",
    "print(\"Means: \" + str(means))"
   ]
  },
  {
   "cell_type": "markdown",
   "metadata": {},
   "source": [
    "The standard deviation is extremely high for the number of applicants only because so many people apply to the University of Michigan and Michigan State University. In fact, both the mean and the standard deviation are higher than the number of applicants to all colleges in the datasets aside from the large two.\n",
    "\n",
    "Given that the mean for acceptance rate is only about three times the standard deviation, it can be concluded that Michigan colleges vary greatly in the percentage of applicants accepted. This is expected, as some colleges in every state are designed to be rigorous and others are simply a way for those in-state to get a bachelor's degree.\n",
    "\n",
    "The standard deviations for the 25th and 75th percentiles of accepted SAT scores are also quite large, since the lowest possible SAT score is 400 (200 in each category) and the highest is 1600 (800 in each category) ([*source*](http://www.prosperoverseas.com/sat)). However, they are smaller relative to the mean than the standard deviation for acceptance rate is. Since only 10 of Michigan's 85 colleges had their accepted SAT numbers revealed, it might mean that the sample exclusively consists of colleges with higher SAT standards."
   ]
  },
  {
   "cell_type": "code",
   "execution_count": 40,
   "metadata": {},
   "outputs": [
    {
     "data": {
      "text/html": [
       "<div>\n",
       "<style scoped>\n",
       "    .dataframe tbody tr th:only-of-type {\n",
       "        vertical-align: middle;\n",
       "    }\n",
       "\n",
       "    .dataframe tbody tr th {\n",
       "        vertical-align: top;\n",
       "    }\n",
       "\n",
       "    .dataframe thead th {\n",
       "        text-align: right;\n",
       "    }\n",
       "</style>\n",
       "<table border=\"1\" class=\"dataframe\">\n",
       "  <thead>\n",
       "    <tr style=\"text-align: right;\">\n",
       "      <th></th>\n",
       "      <th>college</th>\n",
       "      <th>test_optional</th>\n",
       "      <th>num_applicants</th>\n",
       "      <th>accept_rate</th>\n",
       "      <th>sat_25</th>\n",
       "      <th>sat_75</th>\n",
       "      <th>state</th>\n",
       "    </tr>\n",
       "  </thead>\n",
       "  <tbody>\n",
       "    <tr>\n",
       "      <th>0</th>\n",
       "      <td>University of Michigan</td>\n",
       "      <td>Yes</td>\n",
       "      <td>64972</td>\n",
       "      <td>0.229</td>\n",
       "      <td>1340.0</td>\n",
       "      <td>1530.0</td>\n",
       "      <td>Michigan</td>\n",
       "    </tr>\n",
       "    <tr>\n",
       "      <th>1</th>\n",
       "      <td>Hillsdale College</td>\n",
       "      <td>No</td>\n",
       "      <td>2208</td>\n",
       "      <td>0.360</td>\n",
       "      <td>1275.0</td>\n",
       "      <td>1465.0</td>\n",
       "      <td>Michigan</td>\n",
       "    </tr>\n",
       "    <tr>\n",
       "      <th>4</th>\n",
       "      <td>Michigan State University</td>\n",
       "      <td>Yes</td>\n",
       "      <td>44322</td>\n",
       "      <td>0.711</td>\n",
       "      <td>1100.0</td>\n",
       "      <td>1320.0</td>\n",
       "      <td>Michigan</td>\n",
       "    </tr>\n",
       "    <tr>\n",
       "      <th>5</th>\n",
       "      <td>Wayne State University</td>\n",
       "      <td>Yes</td>\n",
       "      <td>15716</td>\n",
       "      <td>0.731</td>\n",
       "      <td>1010.0</td>\n",
       "      <td>1230.0</td>\n",
       "      <td>Michigan</td>\n",
       "    </tr>\n",
       "    <tr>\n",
       "      <th>7</th>\n",
       "      <td>Michigan Technological University</td>\n",
       "      <td>Yes</td>\n",
       "      <td>5978</td>\n",
       "      <td>0.743</td>\n",
       "      <td>1170.0</td>\n",
       "      <td>1370.0</td>\n",
       "      <td>Michigan</td>\n",
       "    </tr>\n",
       "    <tr>\n",
       "      <th>8</th>\n",
       "      <td>Kalamazoo College</td>\n",
       "      <td>Yes</td>\n",
       "      <td>3576</td>\n",
       "      <td>0.760</td>\n",
       "      <td>1170.0</td>\n",
       "      <td>1370.0</td>\n",
       "      <td>Michigan</td>\n",
       "    </tr>\n",
       "    <tr>\n",
       "      <th>9</th>\n",
       "      <td>Hope College</td>\n",
       "      <td>Yes</td>\n",
       "      <td>3748</td>\n",
       "      <td>0.857</td>\n",
       "      <td>1130.0</td>\n",
       "      <td>1330.0</td>\n",
       "      <td>Michigan</td>\n",
       "    </tr>\n",
       "  </tbody>\n",
       "</table>\n",
       "</div>"
      ],
      "text/plain": [
       "                             college test_optional  num_applicants  \\\n",
       "0             University of Michigan           Yes           64972   \n",
       "1                  Hillsdale College            No            2208   \n",
       "4          Michigan State University           Yes           44322   \n",
       "5             Wayne State University           Yes           15716   \n",
       "7  Michigan Technological University           Yes            5978   \n",
       "8                  Kalamazoo College           Yes            3576   \n",
       "9                       Hope College           Yes            3748   \n",
       "\n",
       "   accept_rate  sat_25  sat_75     state  \n",
       "0        0.229  1340.0  1530.0  Michigan  \n",
       "1        0.360  1275.0  1465.0  Michigan  \n",
       "4        0.711  1100.0  1320.0  Michigan  \n",
       "5        0.731  1010.0  1230.0  Michigan  \n",
       "7        0.743  1170.0  1370.0  Michigan  \n",
       "8        0.760  1170.0  1370.0  Michigan  \n",
       "9        0.857  1130.0  1330.0  Michigan  "
      ]
     },
     "execution_count": 40,
     "metadata": {},
     "output_type": "execute_result"
    }
   ],
   "source": [
    "michigan_sat_by_college[michigan_sat_by_college['sat_25'] > michigan_sat['2017']]"
   ]
  },
  {
   "cell_type": "markdown",
   "metadata": {},
   "source": [
    "Of the ten Michigan colleges for which accepted SAT data has been revealed, seven of them have 25th percentile SAT scores higher than the average SAT score in Michigan during 2017 (1005). What is surprising is that two of those seven, Kalamazoo College and Hope College, have acceptance rates higher than 75%, indicating that the people who apply to them generally have higher SAT scores than the average Michigander. Kalamazoo and Hope are both small, with Kalamazoo having a student body of 1451 ([*source*](https://www.usnews.com/best-colleges/kalamazoo-college-2275)) and Hope having an enrollment of 3061 ([*source*](https://www.usnews.com/best-colleges/hope-college-2273)). So it might be that those who wish to attend small colleges have higher SAT scores."
   ]
  },
  {
   "cell_type": "code",
   "execution_count": 41,
   "metadata": {},
   "outputs": [
    {
     "data": {
      "text/html": [
       "<div>\n",
       "<style scoped>\n",
       "    .dataframe tbody tr th:only-of-type {\n",
       "        vertical-align: middle;\n",
       "    }\n",
       "\n",
       "    .dataframe tbody tr th {\n",
       "        vertical-align: top;\n",
       "    }\n",
       "\n",
       "    .dataframe thead th {\n",
       "        text-align: right;\n",
       "    }\n",
       "</style>\n",
       "<table border=\"1\" class=\"dataframe\">\n",
       "  <thead>\n",
       "    <tr style=\"text-align: right;\">\n",
       "      <th></th>\n",
       "      <th>college</th>\n",
       "      <th>test_optional</th>\n",
       "      <th>num_applicants</th>\n",
       "      <th>accept_rate</th>\n",
       "      <th>sat_25</th>\n",
       "      <th>sat_75</th>\n",
       "      <th>state</th>\n",
       "    </tr>\n",
       "  </thead>\n",
       "  <tbody>\n",
       "    <tr>\n",
       "      <th>0</th>\n",
       "      <td>University of Michigan</td>\n",
       "      <td>Yes</td>\n",
       "      <td>64972</td>\n",
       "      <td>0.229</td>\n",
       "      <td>1340.0</td>\n",
       "      <td>1530.0</td>\n",
       "      <td>Michigan</td>\n",
       "    </tr>\n",
       "    <tr>\n",
       "      <th>1</th>\n",
       "      <td>Hillsdale College</td>\n",
       "      <td>No</td>\n",
       "      <td>2208</td>\n",
       "      <td>0.360</td>\n",
       "      <td>1275.0</td>\n",
       "      <td>1465.0</td>\n",
       "      <td>Michigan</td>\n",
       "    </tr>\n",
       "    <tr>\n",
       "      <th>4</th>\n",
       "      <td>Michigan State University</td>\n",
       "      <td>Yes</td>\n",
       "      <td>44322</td>\n",
       "      <td>0.711</td>\n",
       "      <td>1100.0</td>\n",
       "      <td>1320.0</td>\n",
       "      <td>Michigan</td>\n",
       "    </tr>\n",
       "    <tr>\n",
       "      <th>7</th>\n",
       "      <td>Michigan Technological University</td>\n",
       "      <td>Yes</td>\n",
       "      <td>5978</td>\n",
       "      <td>0.743</td>\n",
       "      <td>1170.0</td>\n",
       "      <td>1370.0</td>\n",
       "      <td>Michigan</td>\n",
       "    </tr>\n",
       "    <tr>\n",
       "      <th>8</th>\n",
       "      <td>Kalamazoo College</td>\n",
       "      <td>Yes</td>\n",
       "      <td>3576</td>\n",
       "      <td>0.760</td>\n",
       "      <td>1170.0</td>\n",
       "      <td>1370.0</td>\n",
       "      <td>Michigan</td>\n",
       "    </tr>\n",
       "    <tr>\n",
       "      <th>9</th>\n",
       "      <td>Hope College</td>\n",
       "      <td>Yes</td>\n",
       "      <td>3748</td>\n",
       "      <td>0.857</td>\n",
       "      <td>1130.0</td>\n",
       "      <td>1330.0</td>\n",
       "      <td>Michigan</td>\n",
       "    </tr>\n",
       "  </tbody>\n",
       "</table>\n",
       "</div>"
      ],
      "text/plain": [
       "                             college test_optional  num_applicants  \\\n",
       "0             University of Michigan           Yes           64972   \n",
       "1                  Hillsdale College            No            2208   \n",
       "4          Michigan State University           Yes           44322   \n",
       "7  Michigan Technological University           Yes            5978   \n",
       "8                  Kalamazoo College           Yes            3576   \n",
       "9                       Hope College           Yes            3748   \n",
       "\n",
       "   accept_rate  sat_25  sat_75     state  \n",
       "0        0.229  1340.0  1530.0  Michigan  \n",
       "1        0.360  1275.0  1465.0  Michigan  \n",
       "4        0.711  1100.0  1320.0  Michigan  \n",
       "7        0.743  1170.0  1370.0  Michigan  \n",
       "8        0.760  1170.0  1370.0  Michigan  \n",
       "9        0.857  1130.0  1330.0  Michigan  "
      ]
     },
     "execution_count": 41,
     "metadata": {},
     "output_type": "execute_result"
    }
   ],
   "source": [
    "michigan_sat_by_college[michigan_sat_by_college['sat_25'] > michigan_sat['2018']]"
   ]
  },
  {
   "cell_type": "markdown",
   "metadata": {},
   "source": [
    "Six Michigan colleges have 25th percentile SAT scores which are higher than the average SAT score in Michigan during 2018 (1011). It is the same list as for 2017 with the exception of Wayne State University, which is missing from here. The two colleges with acceptance rates higher than 75% are still on the list."
   ]
  },
  {
   "cell_type": "code",
   "execution_count": 42,
   "metadata": {},
   "outputs": [
    {
     "data": {
      "text/html": [
       "<div>\n",
       "<style scoped>\n",
       "    .dataframe tbody tr th:only-of-type {\n",
       "        vertical-align: middle;\n",
       "    }\n",
       "\n",
       "    .dataframe tbody tr th {\n",
       "        vertical-align: top;\n",
       "    }\n",
       "\n",
       "    .dataframe thead th {\n",
       "        text-align: right;\n",
       "    }\n",
       "</style>\n",
       "<table border=\"1\" class=\"dataframe\">\n",
       "  <thead>\n",
       "    <tr style=\"text-align: right;\">\n",
       "      <th></th>\n",
       "      <th>college</th>\n",
       "      <th>test_optional</th>\n",
       "      <th>num_applicants</th>\n",
       "      <th>accept_rate</th>\n",
       "      <th>sat_25</th>\n",
       "      <th>sat_75</th>\n",
       "      <th>state</th>\n",
       "    </tr>\n",
       "  </thead>\n",
       "  <tbody>\n",
       "    <tr>\n",
       "      <th>0</th>\n",
       "      <td>University of Michigan</td>\n",
       "      <td>Yes</td>\n",
       "      <td>64972</td>\n",
       "      <td>0.229</td>\n",
       "      <td>1340.0</td>\n",
       "      <td>1530.0</td>\n",
       "      <td>Michigan</td>\n",
       "    </tr>\n",
       "    <tr>\n",
       "      <th>1</th>\n",
       "      <td>Hillsdale College</td>\n",
       "      <td>No</td>\n",
       "      <td>2208</td>\n",
       "      <td>0.360</td>\n",
       "      <td>1275.0</td>\n",
       "      <td>1465.0</td>\n",
       "      <td>Michigan</td>\n",
       "    </tr>\n",
       "    <tr>\n",
       "      <th>4</th>\n",
       "      <td>Michigan State University</td>\n",
       "      <td>Yes</td>\n",
       "      <td>44322</td>\n",
       "      <td>0.711</td>\n",
       "      <td>1100.0</td>\n",
       "      <td>1320.0</td>\n",
       "      <td>Michigan</td>\n",
       "    </tr>\n",
       "    <tr>\n",
       "      <th>5</th>\n",
       "      <td>Wayne State University</td>\n",
       "      <td>Yes</td>\n",
       "      <td>15716</td>\n",
       "      <td>0.731</td>\n",
       "      <td>1010.0</td>\n",
       "      <td>1230.0</td>\n",
       "      <td>Michigan</td>\n",
       "    </tr>\n",
       "    <tr>\n",
       "      <th>7</th>\n",
       "      <td>Michigan Technological University</td>\n",
       "      <td>Yes</td>\n",
       "      <td>5978</td>\n",
       "      <td>0.743</td>\n",
       "      <td>1170.0</td>\n",
       "      <td>1370.0</td>\n",
       "      <td>Michigan</td>\n",
       "    </tr>\n",
       "    <tr>\n",
       "      <th>8</th>\n",
       "      <td>Kalamazoo College</td>\n",
       "      <td>Yes</td>\n",
       "      <td>3576</td>\n",
       "      <td>0.760</td>\n",
       "      <td>1170.0</td>\n",
       "      <td>1370.0</td>\n",
       "      <td>Michigan</td>\n",
       "    </tr>\n",
       "    <tr>\n",
       "      <th>9</th>\n",
       "      <td>Hope College</td>\n",
       "      <td>Yes</td>\n",
       "      <td>3748</td>\n",
       "      <td>0.857</td>\n",
       "      <td>1130.0</td>\n",
       "      <td>1330.0</td>\n",
       "      <td>Michigan</td>\n",
       "    </tr>\n",
       "  </tbody>\n",
       "</table>\n",
       "</div>"
      ],
      "text/plain": [
       "                             college test_optional  num_applicants  \\\n",
       "0             University of Michigan           Yes           64972   \n",
       "1                  Hillsdale College            No            2208   \n",
       "4          Michigan State University           Yes           44322   \n",
       "5             Wayne State University           Yes           15716   \n",
       "7  Michigan Technological University           Yes            5978   \n",
       "8                  Kalamazoo College           Yes            3576   \n",
       "9                       Hope College           Yes            3748   \n",
       "\n",
       "   accept_rate  sat_25  sat_75     state  \n",
       "0        0.229  1340.0  1530.0  Michigan  \n",
       "1        0.360  1275.0  1465.0  Michigan  \n",
       "4        0.711  1100.0  1320.0  Michigan  \n",
       "5        0.731  1010.0  1230.0  Michigan  \n",
       "7        0.743  1170.0  1370.0  Michigan  \n",
       "8        0.760  1170.0  1370.0  Michigan  \n",
       "9        0.857  1130.0  1330.0  Michigan  "
      ]
     },
     "execution_count": 42,
     "metadata": {},
     "output_type": "execute_result"
    }
   ],
   "source": [
    "michigan_sat_by_college[michigan_sat_by_college['sat_25'] > michigan_sat['2019']]"
   ]
  },
  {
   "cell_type": "markdown",
   "metadata": {},
   "source": [
    "The list of Michigan colleges that have 25th percentile SAT scores which are higher than the average SAT score in Michigan during 2019 (1003) is the same as that for 2017."
   ]
  },
  {
   "cell_type": "code",
   "execution_count": 43,
   "metadata": {},
   "outputs": [
    {
     "data": {
      "text/html": [
       "<div>\n",
       "<style scoped>\n",
       "    .dataframe tbody tr th:only-of-type {\n",
       "        vertical-align: middle;\n",
       "    }\n",
       "\n",
       "    .dataframe tbody tr th {\n",
       "        vertical-align: top;\n",
       "    }\n",
       "\n",
       "    .dataframe thead th {\n",
       "        text-align: right;\n",
       "    }\n",
       "</style>\n",
       "<table border=\"1\" class=\"dataframe\">\n",
       "  <thead>\n",
       "    <tr style=\"text-align: right;\">\n",
       "      <th></th>\n",
       "      <th>college</th>\n",
       "      <th>test_optional</th>\n",
       "      <th>num_applicants</th>\n",
       "      <th>accept_rate</th>\n",
       "      <th>sat_25</th>\n",
       "      <th>sat_75</th>\n",
       "      <th>state</th>\n",
       "    </tr>\n",
       "  </thead>\n",
       "  <tbody>\n",
       "    <tr>\n",
       "      <th>0</th>\n",
       "      <td>University of Michigan</td>\n",
       "      <td>Yes</td>\n",
       "      <td>64972</td>\n",
       "      <td>0.229</td>\n",
       "      <td>1340.0</td>\n",
       "      <td>1530.0</td>\n",
       "      <td>Michigan</td>\n",
       "    </tr>\n",
       "    <tr>\n",
       "      <th>4</th>\n",
       "      <td>Michigan State University</td>\n",
       "      <td>Yes</td>\n",
       "      <td>44322</td>\n",
       "      <td>0.711</td>\n",
       "      <td>1100.0</td>\n",
       "      <td>1320.0</td>\n",
       "      <td>Michigan</td>\n",
       "    </tr>\n",
       "    <tr>\n",
       "      <th>3</th>\n",
       "      <td>Central Michigan University</td>\n",
       "      <td>Yes</td>\n",
       "      <td>16411</td>\n",
       "      <td>0.695</td>\n",
       "      <td>990.0</td>\n",
       "      <td>1200.0</td>\n",
       "      <td>Michigan</td>\n",
       "    </tr>\n",
       "    <tr>\n",
       "      <th>5</th>\n",
       "      <td>Wayne State University</td>\n",
       "      <td>Yes</td>\n",
       "      <td>15716</td>\n",
       "      <td>0.731</td>\n",
       "      <td>1010.0</td>\n",
       "      <td>1230.0</td>\n",
       "      <td>Michigan</td>\n",
       "    </tr>\n",
       "    <tr>\n",
       "      <th>6</th>\n",
       "      <td>Eastern Michigan University</td>\n",
       "      <td>Yes*</td>\n",
       "      <td>14323</td>\n",
       "      <td>0.741</td>\n",
       "      <td>970.0</td>\n",
       "      <td>1190.0</td>\n",
       "      <td>Michigan</td>\n",
       "    </tr>\n",
       "    <tr>\n",
       "      <th>7</th>\n",
       "      <td>Michigan Technological University</td>\n",
       "      <td>Yes</td>\n",
       "      <td>5978</td>\n",
       "      <td>0.743</td>\n",
       "      <td>1170.0</td>\n",
       "      <td>1370.0</td>\n",
       "      <td>Michigan</td>\n",
       "    </tr>\n",
       "    <tr>\n",
       "      <th>2</th>\n",
       "      <td>Albion College</td>\n",
       "      <td>Yes</td>\n",
       "      <td>4043</td>\n",
       "      <td>0.688</td>\n",
       "      <td>990.0</td>\n",
       "      <td>1200.0</td>\n",
       "      <td>Michigan</td>\n",
       "    </tr>\n",
       "    <tr>\n",
       "      <th>9</th>\n",
       "      <td>Hope College</td>\n",
       "      <td>Yes</td>\n",
       "      <td>3748</td>\n",
       "      <td>0.857</td>\n",
       "      <td>1130.0</td>\n",
       "      <td>1330.0</td>\n",
       "      <td>Michigan</td>\n",
       "    </tr>\n",
       "    <tr>\n",
       "      <th>8</th>\n",
       "      <td>Kalamazoo College</td>\n",
       "      <td>Yes</td>\n",
       "      <td>3576</td>\n",
       "      <td>0.760</td>\n",
       "      <td>1170.0</td>\n",
       "      <td>1370.0</td>\n",
       "      <td>Michigan</td>\n",
       "    </tr>\n",
       "    <tr>\n",
       "      <th>1</th>\n",
       "      <td>Hillsdale College</td>\n",
       "      <td>No</td>\n",
       "      <td>2208</td>\n",
       "      <td>0.360</td>\n",
       "      <td>1275.0</td>\n",
       "      <td>1465.0</td>\n",
       "      <td>Michigan</td>\n",
       "    </tr>\n",
       "  </tbody>\n",
       "</table>\n",
       "</div>"
      ],
      "text/plain": [
       "                             college test_optional  num_applicants  \\\n",
       "0             University of Michigan           Yes           64972   \n",
       "4          Michigan State University           Yes           44322   \n",
       "3        Central Michigan University           Yes           16411   \n",
       "5             Wayne State University           Yes           15716   \n",
       "6        Eastern Michigan University          Yes*           14323   \n",
       "7  Michigan Technological University           Yes            5978   \n",
       "2                     Albion College           Yes            4043   \n",
       "9                       Hope College           Yes            3748   \n",
       "8                  Kalamazoo College           Yes            3576   \n",
       "1                  Hillsdale College            No            2208   \n",
       "\n",
       "   accept_rate  sat_25  sat_75     state  \n",
       "0        0.229  1340.0  1530.0  Michigan  \n",
       "4        0.711  1100.0  1320.0  Michigan  \n",
       "3        0.695   990.0  1200.0  Michigan  \n",
       "5        0.731  1010.0  1230.0  Michigan  \n",
       "6        0.741   970.0  1190.0  Michigan  \n",
       "7        0.743  1170.0  1370.0  Michigan  \n",
       "2        0.688   990.0  1200.0  Michigan  \n",
       "9        0.857  1130.0  1330.0  Michigan  \n",
       "8        0.760  1170.0  1370.0  Michigan  \n",
       "1        0.360  1275.0  1465.0  Michigan  "
      ]
     },
     "execution_count": 43,
     "metadata": {},
     "output_type": "execute_result"
    }
   ],
   "source": [
    "michigan_sorted_applicants = michigan_sat_by_college.sort_values('num_applicants', ascending = False)\n",
    "michigan_sorted_applicants"
   ]
  },
  {
   "cell_type": "markdown",
   "metadata": {},
   "source": [
    "After sorting by the number of applicants, the only colleges with an acceptance rate below 50%, which are also the two with the highest accepted SAT scores, are at the top and at the bottom. It is clear that so many apply to the University of Michigan due to its competitiveness, but it is not clear from the data alone why so few apply to Hillsdale. I would guess that the actual reason why so few apply to Hillsdale is due to its conservative politics ([*source*](https://www.nytimes.com/2017/02/01/education/edlife/hillsdale-college-great-books-constitution-conservatives.html)), which impact the courses it offers ([*read more on a recent example*](https://www.mlive.com/public-interest/2021/09/conservative-michigan-college-creates-k-12-curriculum-to-counter-critical-race-theory.html))."
   ]
  },
  {
   "cell_type": "markdown",
   "metadata": {},
   "source": [
    "## Visualize the Data"
   ]
  },
  {
   "cell_type": "code",
   "execution_count": 44,
   "metadata": {},
   "outputs": [
    {
     "data": {
      "image/png": "[encoded data removed]",
      "text/plain": [
       "<Figure size 576x288 with 2 Axes>"
      ]
     },
     "metadata": {
      "needs_background": "light"
     },
     "output_type": "display_data"
    }
   ],
   "source": [
    "# I got inspiration from this website: https://newbedev.com/how-do-i-add-a-title-to-seaborn-heatmap\n",
    "plt.figure(figsize = (8,4))\n",
    "corr = michigan_sat_by_college.corr()\n",
    "axes = plt.axes()\n",
    "sns.heatmap(corr, annot=True, ax = axes)\n",
    "axes.set_title(\"Correlation Between Number of Applicants, Acceptance Rate, and SAT Percentiles\");"
   ]
  },
  {
   "cell_type": "markdown",
   "metadata": {},
   "source": [
    "The correlation between the 25th and 75th accepted SAT percentiles is 1, which means that the two variables are perfectly coordinated with each other. Both percentile variables have a strong negative correlation with acceptance rate, which is expected since the more competitive colleges look for higher SAT scores. The number of applicants has a decently high negative correlation with acceptance rate, but not much correlation with either of the percentile variables."
   ]
  },
  {
   "cell_type": "code",
   "execution_count": 45,
   "metadata": {},
   "outputs": [
    {
     "data": {
      "image/png": "[encoded data removed]",
      "text/plain": [
       "<Figure size 432x288 with 1 Axes>"
      ]
     },
     "metadata": {
      "needs_background": "light"
     },
     "output_type": "display_data"
    }
   ],
   "source": [
    "bins_list = [0.2, 0.3, 0.4, 0.5, 0.6, 0.7, 0.8, 0.9]\n",
    "plt.hist(michigan_sat_by_college['accept_rate'], bins=bins_list)\n",
    "\n",
    "plt.title(\"Acceptance Rates for Michigan Colleges\")\n",
    "plt.xlabel(\"Acceptance Rate\")\n",
    "plt.ylabel(\"Number of Colleges\");"
   ]
  },
  {
   "cell_type": "markdown",
   "metadata": {},
   "source": [
    "Most of the colleges have a high acceptance rate, with fully half of them admitting between 70% and 80% of applicants. Despite the small size of the data, it seems to approximate a left-skewing normal distribution. This distribution belies the fact that the average Michigander does not have high enough SAT scores to get into most of these places."
   ]
  },
  {
   "cell_type": "code",
   "execution_count": 46,
   "metadata": {},
   "outputs": [
    {
     "name": "stderr",
     "output_type": "stream",
     "text": [
      "C:\\Users\\A-RAM\\anaconda3\\lib\\site-packages\\seaborn\\_decorators.py:36: FutureWarning: Pass the following variable as a keyword arg: x. From version 0.12, the only valid positional argument will be `data`, and passing other arguments without an explicit keyword will result in an error or misinterpretation.\n",
      "  warnings.warn(\n"
     ]
    },
    {
     "data": {
      "image/png": "[encoded data removed]",
      "text/plain": [
       "<Figure size 864x288 with 1 Axes>"
      ]
     },
     "metadata": {
      "needs_background": "light"
     },
     "output_type": "display_data"
    }
   ],
   "source": [
    "plt.figure(figsize=(12,4))\n",
    "axes = plt.axes()\n",
    "sns.boxplot(michigan_sat_by_college['sat_25'], ax = axes, color = 'orange')\n",
    "\n",
    "plt.title(\"25th SAT Percentile for Michigan College Admitted Students\")\n",
    "plt.xlabel(\"SAT Score\")\n",
    "\n",
    "# Vertical lines are added for the 2017, 2018, and 2019 Michigan SAT averages\n",
    "plt.axvline(x = michigan_sat['2017'], color = 'green');\n",
    "plt.axvline(x = michigan_sat['2018'], color = 'green');\n",
    "plt.axvline(x = michigan_sat['2019'], color = 'green');"
   ]
  },
  {
   "cell_type": "markdown",
   "metadata": {},
   "source": [
    "The green lines show the average SAT scores in Michigan for 2017, 2018, and 2019. This plot is consistent with what was surmised from the data: the average Michigander only barely reaches the first quartile of 25th percentiles."
   ]
  },
  {
   "cell_type": "code",
   "execution_count": 47,
   "metadata": {},
   "outputs": [
    {
     "name": "stderr",
     "output_type": "stream",
     "text": [
      "C:\\Users\\A-RAM\\anaconda3\\lib\\site-packages\\seaborn\\_decorators.py:36: FutureWarning: Pass the following variable as a keyword arg: x. From version 0.12, the only valid positional argument will be `data`, and passing other arguments without an explicit keyword will result in an error or misinterpretation.\n",
      "  warnings.warn(\n"
     ]
    },
    {
     "data": {
      "image/png": "[encoded data removed]",
      "text/plain": [
       "<Figure size 864x288 with 1 Axes>"
      ]
     },
     "metadata": {
      "needs_background": "light"
     },
     "output_type": "display_data"
    }
   ],
   "source": [
    "plt.figure(figsize=(12,4))\n",
    "axes = plt.axes()\n",
    "sns.boxplot(michigan_sat_by_college['sat_75'], ax = axes, color = 'orange')\n",
    "\n",
    "plt.title(\"75th SAT Percentile for Michigan College Admitted Students\")\n",
    "plt.xlabel(\"SAT Score\")\n",
    "\n",
    "# Vertical lines are added for the 2017, 2018, and 2019 Michigan SAT averages\n",
    "plt.axvline(x = michigan_sat['2017'], color = 'green');\n",
    "plt.axvline(x = michigan_sat['2018'], color = 'green');\n",
    "plt.axvline(x = michigan_sat['2019'], color = 'green');"
   ]
  },
  {
   "cell_type": "markdown",
   "metadata": {},
   "source": [
    "Like the previous boxplot, the green lines show the average SAT scores in Michigan from 2017 to 2019. They are far to the left of the boxplot, indicating that the average Michigander cannot stand a chance of being in the 75th percentile of admission to any of the Michigan colleges."
   ]
  },
  {
   "cell_type": "code",
   "execution_count": 48,
   "metadata": {},
   "outputs": [
    {
     "data": {
      "image/png": "[encoded data removed]",
      "text/plain": [
       "<Figure size 576x288 with 1 Axes>"
      ]
     },
     "metadata": {
      "needs_background": "light"
     },
     "output_type": "display_data"
    }
   ],
   "source": [
    "plt.figure(figsize = (8,4))\n",
    "\n",
    "plt.scatter(x = michigan_sat_by_college['sat_25'],\n",
    "           y = michigan_sat_by_college['accept_rate'],\n",
    "           color = 'blue',\n",
    "           label = '25th Percentile')\n",
    "\n",
    "plt.scatter(x = michigan_sat_by_college['sat_75'],\n",
    "           y = michigan_sat_by_college['accept_rate'],\n",
    "           color = 'red',\n",
    "           label = '75th Percentile')\n",
    "\n",
    "plt.legend()\n",
    "\n",
    "plt.title(\"The SAT vs. College Acceptance\")\n",
    "plt.xlabel(\"Accepted SAT Scores\")\n",
    "plt.ylabel(\"Acceptance Rate\");"
   ]
  },
  {
   "cell_type": "markdown",
   "metadata": {},
   "source": [
    "This scatterplot further confirms the findings from the heatmap that the 25th percentile and the 75th percentile have roughly the same correlation, which appears to be negative, with the acceptance rate."
   ]
  },
  {
   "cell_type": "markdown",
   "metadata": {},
   "source": [
    "## Conclusions and Recommendations"
   ]
  },
  {
   "cell_type": "markdown",
   "metadata": {},
   "source": [
    "You should certainly do better than the average Michigander on the SAT to get into **any** of the ten Michigan colleges. If you perform at the average level from 2017 to 2019, you might barely get into Albion, Central Michigan, or Eastern Michigan and you will not get into the others at all.\n",
    "\n",
    "As there is a strong negative correlation between acceptance rate and SAT scores, you should try the hardest for the two highly selective colleges, the University of Michigan and Hillsdale College. Try for a perfect score if your first choice is the University of Michigan and at least 1500 if your first choice is Hillsdale so you will not lose much if you fall short. If your first choice is any of the other eight, aim for 1300, even if the admission rate makes you feel more confident about getting in while doing worse.\n",
    "\n",
    "It is debatable whether you should the SAT at all, given how learning at home, especially without the proper resources, leads to students becoming far behind. But given Michigan's unique situation of requiring SAT scores on transcripts, it is worth the effort to do well because college admissions teams will look at the score."
   ]
  }
 ],
 "metadata": {
  "anaconda-cloud": {},
  "kernelspec": {
   "display_name": "Python 3",
   "language": "python",
   "name": "python3"
  },
  "language_info": {
   "codemirror_mode": {
    "name": "ipython",
    "version": 3
   },
   "file_extension": ".py",
   "mimetype": "text/x-python",
   "name": "python",
   "nbconvert_exporter": "python",
   "pygments_lexer": "ipython3",
   "version": "3.8.8"
  }
 },
 "nbformat": 4,
 "nbformat_minor": 4
}
